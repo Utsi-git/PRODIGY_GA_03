{
 "cells": [
  {
   "cell_type": "code",
   "outputs": [],
   "source": [
    "import numpy as np\n",
    "import pandas as pd\n",
    "import os\n",
    "import re\n",
    "import string\n",
    "from nltk.tokenize import word_tokenize\n",
    "from nltk.corpus import stopwords\n",
    "import random"
   ],
   "metadata": {
    "collapsed": false,
    "ExecuteTime": {
     "end_time": "2024-07-23T20:15:46.383460Z",
     "start_time": "2024-07-23T20:15:35.401507Z"
    }
   },
   "id": "c37b15f52dcab6a1",
   "execution_count": 1
  },
  {
   "cell_type": "code",
   "outputs": [
    {
     "name": "stdout",
     "output_type": "stream",
     "text": [
      "number of lines =  215021\n"
     ]
    }
   ],
   "source": [
    "#Reading stories of sherlock holmes\n",
    "story_path = \"sherlock/sherlock/\"\n",
    "\n",
    "def read_all_stories(story_path):\n",
    "    txt = []\n",
    "    for _, _, files in os.walk(story_path):\n",
    "        for file in files:\n",
    "            with open(story_path+file) as f:\n",
    "                for line in f:\n",
    "                    line = line.strip()\n",
    "                    if line=='----------': break\n",
    "                    if line!='':txt.append(line)\n",
    "    return txt\n",
    "\n",
    "stories = read_all_stories(story_path)\n",
    "print(\"number of lines = \", len(stories))"
   ],
   "metadata": {
    "collapsed": false,
    "ExecuteTime": {
     "end_time": "2024-07-23T20:17:02.479099Z",
     "start_time": "2024-07-23T20:17:02.397698Z"
    }
   },
   "id": "de276bbd419086ef",
   "execution_count": 3
  },
  {
   "cell_type": "code",
   "outputs": [
    {
     "name": "stdout",
     "output_type": "stream",
     "text": [
      "number of words =  2332247\n"
     ]
    }
   ],
   "source": [
    "#Cleaning text\n",
    "\n",
    "def clean_txt(txt):\n",
    "    cleaned_txt = []\n",
    "    for line in txt:\n",
    "        line = line.lower()\n",
    "        line = re.sub(r\"[,.\\\"\\'!@#$%^&*(){}?/;`~:<>+=-\\\\]\", \"\", line)\n",
    "        tokens = word_tokenize(line)\n",
    "        words = [word for word in tokens if word.isalpha()]\n",
    "        cleaned_txt+=words\n",
    "    return cleaned_txt\n",
    "\n",
    "cleaned_stories = clean_txt(stories)\n",
    "print(\"number of words = \", len(cleaned_stories))"
   ],
   "metadata": {
    "collapsed": false,
    "ExecuteTime": {
     "end_time": "2024-07-23T20:17:37.451902Z",
     "start_time": "2024-07-23T20:17:20.376229Z"
    }
   },
   "id": "612472035468ac16",
   "execution_count": 4
  },
  {
   "cell_type": "code",
   "outputs": [],
   "source": [
    "#Creating Markov Model\n",
    "\n",
    "def make_markov_model(cleaned_stories, n_gram=2):\n",
    "    markov_model = {}\n",
    "    for i in range(len(cleaned_stories)-n_gram-1):\n",
    "        curr_state, next_state = \"\", \"\"\n",
    "        for j in range(n_gram):\n",
    "            curr_state += cleaned_stories[i+j] + \" \"\n",
    "            next_state += cleaned_stories[i+j+n_gram] + \" \"\n",
    "        curr_state = curr_state[:-1]\n",
    "        next_state = next_state[:-1]\n",
    "        if curr_state not in markov_model:\n",
    "            markov_model[curr_state] = {}\n",
    "            markov_model[curr_state][next_state] = 1\n",
    "        else:\n",
    "            if next_state in markov_model[curr_state]:\n",
    "                markov_model[curr_state][next_state] += 1\n",
    "            else:\n",
    "                markov_model[curr_state][next_state] = 1\n",
    "\n",
    "    # calculating transition probabilities\n",
    "    for curr_state, transition in markov_model.items():\n",
    "        total = sum(transition.values())\n",
    "        for state, count in transition.items():\n",
    "            markov_model[curr_state][state] = count/total\n",
    "\n",
    "    return markov_model"
   ],
   "metadata": {
    "collapsed": false,
    "ExecuteTime": {
     "end_time": "2024-07-23T20:18:25.713575Z",
     "start_time": "2024-07-23T20:18:25.706941Z"
    }
   },
   "id": "56d7d49bd2b19b20",
   "execution_count": 6
  },
  {
   "cell_type": "code",
   "outputs": [],
   "source": [
    "markov_model = make_markov_model(cleaned_stories)"
   ],
   "metadata": {
    "collapsed": false,
    "ExecuteTime": {
     "end_time": "2024-07-23T20:18:37.262239Z",
     "start_time": "2024-07-23T20:18:34.518120Z"
    }
   },
   "id": "e7fbc3805a71c120",
   "execution_count": 7
  },
  {
   "cell_type": "code",
   "outputs": [
    {
     "name": "stdout",
     "output_type": "stream",
     "text": [
      "number of states =  208717\n"
     ]
    }
   ],
   "source": [
    "print(\"number of states = \", len(markov_model.keys()))"
   ],
   "metadata": {
    "collapsed": false,
    "ExecuteTime": {
     "end_time": "2024-07-23T20:18:43.176007Z",
     "start_time": "2024-07-23T20:18:43.161161Z"
    }
   },
   "id": "5371ecce60554995",
   "execution_count": 8
  },
  {
   "cell_type": "code",
   "outputs": [
    {
     "name": "stdout",
     "output_type": "stream",
     "text": [
      "All possible transitions from 'the game' state: \n",
      "\n",
      "{'is up': 0.06306306306306306, 'is and': 0.036036036036036036, 'was afoot': 0.036036036036036036, 'for the': 0.036036036036036036, 'was whist': 0.036036036036036036, 'would have': 0.036036036036036036, 'in their': 0.036036036036036036, 'was up': 0.09009009009009009, 'in that': 0.036036036036036036, 'the lack': 0.036036036036036036, 'for all': 0.06306306306306306, 'is afoot': 0.036036036036036036, 'was in': 0.02702702702702703, 'is hardly': 0.02702702702702703, 'may wander': 0.02702702702702703, 'now a': 0.02702702702702703, 'my own': 0.02702702702702703, 'at any': 0.02702702702702703, 'mr holmes': 0.02702702702702703, 'ay whats': 0.02702702702702703, 'my friend': 0.02702702702702703, 'fairly by': 0.02702702702702703, 'is not': 0.02702702702702703, 'was not': 0.02702702702702703, 'worth it': 0.02702702702702703, 'you are': 0.02702702702702703, 'i am': 0.02702702702702703, 'now count': 0.02702702702702703, 'your letter': 0.02702702702702703}\n"
     ]
    }
   ],
   "source": [
    "print(\"All possible transitions from 'the game' state: \\n\")\n",
    "print(markov_model['the game'])"
   ],
   "metadata": {
    "collapsed": false,
    "ExecuteTime": {
     "end_time": "2024-07-23T20:18:49.774101Z",
     "start_time": "2024-07-23T20:18:49.770987Z"
    }
   },
   "id": "f22fecbb79720d8b",
   "execution_count": 9
  },
  {
   "cell_type": "code",
   "outputs": [],
   "source": [
    "#Genearting Sherlock Stories\n",
    "\n",
    "def generate_story(markov_model, limit=100, start='my god'):\n",
    "    n = 0\n",
    "    curr_state = start\n",
    "    next_state = None\n",
    "    story = \"\"\n",
    "    story+=curr_state+\" \"\n",
    "    while n<limit:\n",
    "        next_state = random.choices(list(markov_model[curr_state].keys()),\n",
    "                                    list(markov_model[curr_state].values()))\n",
    "\n",
    "        curr_state = next_state[0]\n",
    "        story+=curr_state+\" \"\n",
    "        n+=1\n",
    "    return story"
   ],
   "metadata": {
    "collapsed": false,
    "ExecuteTime": {
     "end_time": "2024-07-23T20:19:15.337807Z",
     "start_time": "2024-07-23T20:19:15.331342Z"
    }
   },
   "id": "4985206dabf9259f",
   "execution_count": 10
  },
  {
   "cell_type": "code",
   "outputs": [
    {
     "name": "stdout",
     "output_type": "stream",
     "text": [
      "0.  dear holmes he has been here press him tell him where the features have been more adroit in \n",
      "1.  dear holmes my previous letters and poured them all into the fire and to be obeyed his manner \n",
      "2.  dear holmes said i he would naturally feel loyalty towards the officials one of the peculiarities of the \n",
      "3.  dear holmes you are fortunately the only man who can hate too i was driven over to ross \n",
      "4.  dear holmes i fear been negative one thing only is certain it was a debt of honor so \n",
      "5.  dear holmes what do you think that the evidence is that he had come upon the land heaven \n",
      "6.  dear holmes you are aware watson it is in the busiest thoroughfare we were helped through it by \n",
      "7.  dear holmes you are mistaken about my alleged agents count sylvius laughed contemptuously other people can observe as \n",
      "8.  dear holmes it is absurd to deny that i have not much hope of getting it that is \n",
      "9.  dear holmes what do you call it crime cried morris his voice testified to his jangled nerves he \n",
      "10.  dear holmes what do you make of it and three days only were wanted to complete the matter \n",
      "11.  dear holmes if i had seen it the train of reasoning is not very much i answered i \n",
      "12.  dear holmes oh yes you do with it holmes handed to him at once p t scrawled upon \n",
      "13.  dear holmes you are yourself i have one more specimen of the cover was a paper daily telegraph \n",
      "14.  dear holmes i fear that you may know the information which you saw were on the ocean of \n",
      "15.  dear holmes said i i suppose no superstitious fears in the matter was left in doubt as to \n",
      "16.  dear holmes it is the dukes peculiar stiff hand besides the duke of balmorals iris yellow and black \n",
      "17.  dear holmes i have already learned i brought down this suit of grey flannel with a cloven foot \n",
      "18.  dear holmes i fear that you notice that he keeps papers and a mighty crowd they came up \n",
      "19.  dear holmes what do you think it cried the lady is his weak subject he is a wreck \n"
     ]
    }
   ],
   "source": [
    "for i in range(20):\n",
    "    print(str(i)+\". \", generate_story(markov_model, start=\"dear holmes\", limit=8))"
   ],
   "metadata": {
    "collapsed": false,
    "ExecuteTime": {
     "end_time": "2024-07-23T20:19:25.184471Z",
     "start_time": "2024-07-23T20:19:25.174542Z"
    }
   },
   "id": "3e30638cde0c5b83",
   "execution_count": 11
  },
  {
   "cell_type": "code",
   "outputs": [
    {
     "name": "stdout",
     "output_type": "stream",
     "text": [
      "0.  my dear watson said he i wonder since you are through with it i dont want to get \n",
      "1.  my dear watson i think we have done better to do a minute later the grim hall bristling \n",
      "2.  my dear fellow there is no reflection upon your professional knowledge said he for they had been that \n",
      "3.  my dear fellow be it so well he went a corroboration of that of the ladys eyes are \n",
      "4.  my dear boy children come said i then reflected that since he spoke about it he learned to \n",
      "5.  my dear watson said he there are points about the wards and even to you its up to \n",
      "6.  my dear watson you would certainly have suggested things so that it should not have troubled you for \n",
      "7.  my dear boy to apologise to him for the english papers on the sundial what have you to \n",
      "8.  my dear fellow it is at his post in devonshire i may be putting ourselves in the morning \n",
      "9.  my dear watson said he when we had left it there mr and mrs rucastle expressed a delight \n",
      "10.  my dear sir the person that professor presbury was rich with a little cry of satisfaction things are \n",
      "11.  my dear fellow i would not have seen his death exactly well now watson we will replace the \n",
      "12.  my dear watson that will carry conviction with them is influenced by those around him no no it \n",
      "13.  my dear sir such a course of miss mary sutherland while the body was absolutely corpulent but his \n",
      "14.  my dear watson said he our ways lie elsewhere our next station must be done and throw the \n",
      "15.  my dear fellow you will go down this morning he was a tall young man surprisingly handsome with \n",
      "16.  my dear watson where would you call it a defect was that frightened her i can said holmes \n",
      "17.  my dear watson to you i will trouble us again our case this little conundrum came by the \n",
      "18.  my dear sir you will visit each of these wore some scarf or medallion as emblem of his \n",
      "19.  my dear watson you have just described as a chap for he was terrible to look at us \n"
     ]
    }
   ],
   "source": [
    "for i in range(20):\n",
    "    print(str(i)+\". \", generate_story(markov_model, start=\"my dear\", limit=8))"
   ],
   "metadata": {
    "collapsed": false,
    "ExecuteTime": {
     "end_time": "2024-07-23T20:19:38.650054Z",
     "start_time": "2024-07-23T20:19:38.644624Z"
    }
   },
   "id": "ed892f56a15de108",
   "execution_count": 12
  },
  {
   "cell_type": "code",
   "outputs": [
    {
     "name": "stdout",
     "output_type": "stream",
     "text": [
      "the case in that world of london so sir james walter and you had nothing particular on hand and that was his personal friend and hence also the were very much shocked by the rope i found him a prey to the lodge he stopped at a door leading to the lawn is thirty yards across and is intimately connected with the rest when she complained of a government appointment in the wet notches of the berkshire constabulary a smart little landau which rattled up to look at me with their searching glance the distance which brought me to the last from chicago a stranger in these parts but i was always empty as the secretary was employed up here who lowered you this is no alternative i suggested grotesquely improbably no doubt but still just conceivable might the whole thing was a episode intended to walk down together and in all ways a model employer he had lit his cigar and leaned back in his past life or else as a long man with loose limbs and body of police in she might say to you except that when the county constabulary is in a telegram it was from the carlton \n"
     ]
    }
   ],
   "source": [
    "print(generate_story(markov_model, start=\"the case\", limit=100))"
   ],
   "metadata": {
    "collapsed": false,
    "ExecuteTime": {
     "end_time": "2024-07-23T20:20:05.713278Z",
     "start_time": "2024-07-23T20:20:05.681594Z"
    }
   },
   "id": "785ed8a7d87f4a89",
   "execution_count": 14
  },
  {
   "cell_type": "code",
   "outputs": [],
   "source": [],
   "metadata": {
    "collapsed": false
   },
   "id": "ab48b10413cb4494"
  }
 ],
 "metadata": {
  "kernelspec": {
   "display_name": "Python 3",
   "language": "python",
   "name": "python3"
  },
  "language_info": {
   "codemirror_mode": {
    "name": "ipython",
    "version": 2
   },
   "file_extension": ".py",
   "mimetype": "text/x-python",
   "name": "python",
   "nbconvert_exporter": "python",
   "pygments_lexer": "ipython2",
   "version": "2.7.6"
  }
 },
 "nbformat": 4,
 "nbformat_minor": 5
}
